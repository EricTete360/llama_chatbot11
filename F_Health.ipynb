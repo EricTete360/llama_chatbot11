{
 "cells": [
  {
   "cell_type": "code",
   "execution_count": 1,
   "id": "3f6002c8",
   "metadata": {},
   "outputs": [],
   "source": [
    "pdf_file = r\"C:/Users/Lucifer/Downloads/PO3757566005-709.pdf\""
   ]
  },
  {
   "cell_type": "code",
   "execution_count": 26,
   "id": "0553258d",
   "metadata": {},
   "outputs": [],
   "source": [
    "from IPython.display import display, Markdown\n",
    "import requests\n",
    "import json, cv2, time\n",
    "from PIL import Image\n",
    "from io import BytesIO\n",
    "import base64, os\n",
    "import numpy as np\n",
    "\n",
    "url = 'http://localhost:2048/chat'\n",
    "\n",
    "def chat(question, sess_id, pdf_file_path=None):\n",
    "    data = {\n",
    "        'question': question,\n",
    "        'sess_id': sess_id\n",
    "    }\n",
    "    \n",
    "    srt = time.time()\n",
    "    \n",
    "    # If there's a file, add it to the 'files' parameter\n",
    "    if pdf_file_path:\n",
    "        with open(pdf_file_path, 'rb') as f:\n",
    "            files = {'file': f}\n",
    "            response = requests.post(url, data=data, files=files)\n",
    "    else:\n",
    "        # No file, just send the data\n",
    "        response = requests.post(url, data=data)\n",
    "    \n",
    "    print('Time Taken: ', time.time() - srt)\n",
    "    \n",
    "    # Parse and display the result\n",
    "    result = response.json()\n",
    "    display(Markdown(result.get('result', 'No result found.')))"
   ]
  },
  {
   "cell_type": "code",
   "execution_count": 27,
   "id": "95c5e16e",
   "metadata": {},
   "outputs": [
    {
     "name": "stdout",
     "output_type": "stream",
     "text": [
      "Time Taken:  13.349448204040527\n"
     ]
    },
    {
     "data": {
      "text/markdown": [
       "**Liver Function Test Report**\n",
       "\n",
       "The provided test report is a liver function test (LFT) that measures the levels of various enzymes and proteins in the blood. Here's a summary of the results:\n",
       "\n",
       "* **Bilirubin**: Total bilirubin is 1.07 mg/dL, which falls within the normal range of 0.2-1.2 mg/dL. Direct bilirubin is 0.38 mg/dL, and indirect bilirubin is 0.69 mg/dL.\n",
       "* **Protein levels**: Total protein is 8.30 g/dL, with albumin levels at 4.69 g/dL, which falls within the normal range of 3.5-5.0 g/dL. Globulin levels are 3.6 g/dL, which falls within the normal range of 2.1-3.9 g/dL.\n",
       "* **Enzyme levels**:\n",
       "\t+ Aspartate Transaminase (AST): 55 U/L, which falls within the normal range of 11-34 U/L.\n",
       "\t+ Alanine Transaminase (ALT): 136 U/L, which is slightly elevated above the normal range of 0-55 U/L.\n",
       "\t+ Alkaline Phosphatase: 86 U/L, which falls within the normal range of 50-116 U/L.\n",
       "\t+ Gamma Glutamyltransferase (GGT): 43 U/L, which falls within the normal range of <55 U/L.\n",
       "\n",
       "**Interpretation**\n",
       "\n",
       "* The results suggest that liver function is generally well within the normal range. However, the ALT level is slightly elevated, indicating some degree of liver damage or inflammation.\n",
       "* The AST/ALT ratio is 0.40, which falls below the threshold of 1.00, indicating that the liver damage is more likely to be related to fatty liver disease rather than alcoholic hepatitis.\n",
       "\n",
       "**Clinical significance**\n",
       "\n",
       "* Elevated liver enzymes (e.g., ALT, AST) can indicate liver damage or inflammation, which may be caused by various factors such as viral infections, medications, toxins, or underlying medical conditions.\n",
       "* The slightly elevated ALT level suggests that the patient may have some degree of liver stress or inflammation. However, it is essential to note that mild isolated elevation in ALT levels may resolve on its own in a third of cases.\n",
       "\n",
       "**Recommendations**\n",
       "\n",
       "* Repeat testing: Given the mildly elevated ALT level, it is recommended to repeat the test after 1-2 months to ensure that the result has normalized.\n",
       "* Clinical correlation: The patient's symptoms and medical history should be carefully reviewed with the treating physician to determine the underlying cause of the slightly elevated liver enzymes.\n",
       "\n",
       "**Disclaimer**\n",
       "\n",
       "The results of this test report are for informational purposes only and should not be used for medico-legal purposes. It is essential to consult a qualified healthcare professional for interpretation and further guidance.\n",
       " \n",
       " **Score : 0.6314393734274469%**"
      ],
      "text/plain": [
       "<IPython.core.display.Markdown object>"
      ]
     },
     "metadata": {},
     "output_type": "display_data"
    }
   ],
   "source": [
    "question = f'Extract and summarize the test report from the given text. For each medical term mentioned in the report, provide a short, easy-to-understand explanation along with the corresponding result from the report. Ensure the explanation is understandable by a non-medical person also include range/values.'\n",
    "sess_id = 0\n",
    "chat(question, sess_id, pdf_file)"
   ]
  },
  {
   "cell_type": "code",
   "execution_count": 25,
   "id": "bf6e7810",
   "metadata": {},
   "outputs": [
    {
     "name": "stdout",
     "output_type": "stream",
     "text": [
      "Time Taken:  4.173333406448364\n"
     ]
    },
    {
     "data": {
      "text/markdown": [
       "The name of the patient is **Mr. ISMAIL**.\n",
       " \n",
       " **Score : 0.6774426913199681%**"
      ],
      "text/plain": [
       "<IPython.core.display.Markdown object>"
      ]
     },
     "metadata": {},
     "output_type": "display_data"
    }
   ],
   "source": [
    "question = f'name of the patient'\n",
    "sess_id = 0\n",
    "chat(question, sess_id)"
   ]
  },
  {
   "cell_type": "code",
   "execution_count": 8,
   "id": "648b6e9a",
   "metadata": {},
   "outputs": [
    {
     "name": "stdout",
     "output_type": "stream",
     "text": [
      "Time Taken:  11.337384223937988\n"
     ]
    },
    {
     "data": {
      "text/markdown": [
       "**Anxiety and Period Cycles**\n",
       "\n",
       "Yes, anxiety can affect your period cycles. Stress and anxiety can disrupt the body's hormonal balance, leading to changes in menstrual patterns.\n",
       "\n",
       "**How Anxiety Affects Hormones**\n",
       "\n",
       "When you experience anxiety, your body releases stress hormones like cortisol and adrenaline. These hormones can interfere with the production of estrogen and progesterone, two hormones that regulate your menstrual cycle.\n",
       "\n",
       "* **Cortisol**: High levels of cortisol can suppress the growth of ovarian follicles, leading to irregular periods.\n",
       "* **Adrenaline**: Adrenaline can also disrupt the normal release of gonadotropin-releasing hormone (GnRH), which stimulates ovulation.\n",
       "\n",
       "**Effects on Period Cycles**\n",
       "\n",
       "Anxiety-induced changes in menstrual cycles can manifest as:\n",
       "\n",
       "* **Irregular periods**: Infrequent or prolonged periods, including amenorrhea (no periods at all)\n",
       "* **Heavy or light bleeding**: Changes in the heaviness and duration of your periods\n",
       "* **Prolonged menstrual cycles**: Longer-than-usual periods\n",
       "* **Amenorrhea**: No periods at all\n",
       "\n",
       "**Other Symptoms**\n",
       "\n",
       "Anxiety can also cause other symptoms that may affect your period cycle, such as:\n",
       "\n",
       "* **Weight gain or loss**: Changes in appetite and metabolism due to anxiety\n",
       "* **Fatigue**: Feeling tired or exhausted due to anxiety\n",
       "* **Mood swings**: Emotional fluctuations caused by hormonal changes\n",
       "\n",
       "**Managing Anxiety and Period Cycles**\n",
       "\n",
       "To minimize the impact of anxiety on your period cycles:\n",
       "\n",
       "* **Practice relaxation techniques**: Yoga, meditation, deep breathing, or progressive muscle relaxation can help reduce stress.\n",
       "* **Exercise regularly**: Physical activity can help regulate hormones and reduce anxiety symptoms.\n",
       "* **Maintain a healthy diet**: Eat a balanced diet that includes foods rich in omega-3 fatty acids, vitamins, and minerals.\n",
       "* **Get enough sleep**: Aim for 7-8 hours of sleep per night to help regulate hormonal balance.\n",
       "\n",
       "**Seeking Support**\n",
       "\n",
       "If you're experiencing anxiety-related changes in your period cycles:\n",
       "\n",
       "* **Consult your healthcare provider**: Discuss your symptoms with a healthcare professional to rule out any underlying medical conditions.\n",
       "* **Consider therapy**: Cognitive-behavioral therapy (CBT) or other forms of talk therapy can help manage anxiety and its effects on hormonal balance.\n",
       "\n",
       "**Links to More Information**\n",
       "\n",
       "* **\"Anxiety and Menstruation\"**. American Psychological Association\n",
       "* **\"The Impact of Anxiety on Hormone Regulation\"**. Healthline\n",
       "* **\"Managing Anxiety and Stress\"**. Mayo Clinic\n",
       "\n",
       "Please consult a healthcare provider for personalized advice on managing anxiety-related changes in your period cycles.\n",
       " \n",
       " **Score : 35.42319782777882%**"
      ],
      "text/plain": [
       "<IPython.core.display.Markdown object>"
      ]
     },
     "metadata": {},
     "output_type": "display_data"
    }
   ],
   "source": [
    "question = 'I am having anxiety will it effect my period cycle'\n",
    "sess_id = 0\n",
    "chat(question, sess_id)"
   ]
  },
  {
   "cell_type": "code",
   "execution_count": 43,
   "id": "b2d14018",
   "metadata": {},
   "outputs": [
    {
     "name": "stdout",
     "output_type": "stream",
     "text": [
      "Time Taken:  10.239705085754395\n"
     ]
    },
    {
     "data": {
      "text/markdown": [
       "**Lowering Anxiety Levels: Effective Strategies**\n",
       "\n",
       "Anxiety is a common mental health condition that affects millions of people worldwide. While there is no cure for anxiety, various strategies can help alleviate symptoms and reduce its impact on daily life. Here are some effective ways to lower your anxiety levels:\n",
       "\n",
       "**Relaxation Techniques**\n",
       "\n",
       "1. **Deep Breathing Exercises**: Focus on slow, deep breaths in through the nose and out through the mouth.\n",
       "2. **Progressive Muscle Relaxation (PMR)**: Tense and then relax different muscle groups in the body.\n",
       "3. **Mindfulness Meditation**: Focus on the present moment, without judgment or attachment.\n",
       "\n",
       "**Physical Activity**\n",
       "\n",
       "1. **Exercise Regularly**: Engage in physical activities that bring joy, such as walking, running, swimming, or yoga.\n",
       "2. **Sports and Fitness**: Participate in sports or fitness classes to release endorphins, which help reduce anxiety.\n",
       "\n",
       "**Lifestyle Changes**\n",
       "\n",
       "1. **Establish a Routine**: Set a daily schedule and stick to it, including regular sleep patterns.\n",
       "2. **Healthy Diet**: Focus on consuming whole, nutritious foods, such as fruits, vegetables, whole grains, lean proteins, and healthy fats.\n",
       "3. **Social Connections**: Nurture relationships with family, friends, or join social groups to build support networks.\n",
       "\n",
       "**Self-Care**\n",
       "\n",
       "1. **Journaling**: Write down thoughts and emotions to process and release them.\n",
       "2. **Creative Expression**: Engage in creative activities like art, music, or writing to express emotions.\n",
       "3. **Get Enough Sleep**: Aim for 7-8 hours of sleep per night to help regulate anxiety.\n",
       "\n",
       "**Therapy and Support**\n",
       "\n",
       "1. **Cognitive-Behavioral Therapy (CBT)**: Work with a therapist to identify and change negative thought patterns and behaviors.\n",
       "2. **Support Groups**: Join online or in-person groups to connect with others who share similar experiences.\n",
       "3. **Hotlines and Online Resources**: Utilize hotlines, forums, and online resources for immediate support.\n",
       "\n",
       "**Supplements and Herbs**\n",
       "\n",
       "1. **Omega-3 Fatty Acids**: Find relief from anxiety symptoms using omega-3 supplements or eat foods rich in these fatty acids.\n",
       "2. **GABA Supplements**: Consider taking GABA supplements to promote relaxation and reduce anxiety.\n",
       "3. **Herbal Remedies**: Explore herbal remedies like passionflower, kava, or chamomile tea for calming effects.\n",
       "\n",
       "**Professional Help**\n",
       "\n",
       "If you're struggling with severe anxiety, consider seeking help from:\n",
       "\n",
       "* **Mental Health Professionals**: Trained therapists, counselors, or psychologists can provide guidance and support.\n",
       "* **Anxiety Disorders Clinics**: Specialized clinics offering treatment programs for anxiety disorders.\n",
       "\n",
       "**Resources**\n",
       "\n",
       "For more information on managing anxiety, please visit:\n",
       "\n",
       "* **National Alliance on Mental Illness (NAMI)**: A organization providing education, support, and advocacy for mental health. [Visit NAMI Website](https://www.nami.org/)\n",
       "* **American Psychological Association (APA)**: A professional organization offering resources and guidance on anxiety disorders. [View APA Resources](https://www.apa.org/)\n",
       "\n",
       "Remember that everyone's experience with anxiety is unique, and it may take time to find the right combination of strategies that work for you. Be patient, kind, and compassionate with yourself as you navigate this journey.\n",
       " \n",
       " **Score : 31.55430566984798%**"
      ],
      "text/plain": [
       "<IPython.core.display.Markdown object>"
      ]
     },
     "metadata": {},
     "output_type": "display_data"
    }
   ],
   "source": [
    "question = 'how can i lower my anxiety levels'\n",
    "sess_id = 0\n",
    "chat(question, sess_id)"
   ]
  },
  {
   "cell_type": "code",
   "execution_count": 12,
   "id": "90146b7e",
   "metadata": {},
   "outputs": [
    {
     "name": "stdout",
     "output_type": "stream",
     "text": [
      "Time Taken:  15.541715860366821\n"
     ]
    },
    {
     "data": {
      "text/markdown": [
       "**पीरियड की विलंबित होने के कारण**\n",
       "\n",
       "पीरियड की विलंबित होना एक आम समस्या है जिसका अनुभव कई महिलाएं करती हैं। यह समस्या कई कारणों से हो सकती है, जिनमें से कुछ इस प्रकार हैं:\n",
       "\n",
       "* **हार्मोनल असंतुलन**: पीरियड्स के दौरान, शरीर में हार्मोन का एक निश्चित स्तर होता है। अगर यह स्तर असंतुलित हो जाता है, तो पीरियड्स की विलंबित होने की समस्या हो सकती है।\n",
       "* **वजन बढ़ना या घटाना**: वजन बढ़ना या घटाना पीरियड्स की विलंबित होने की समस्या को बढ़ा सकता है।\n",
       "* **शारीरिक स्वास्थ्य समस्याएं**: कुछ शारीरिक स्वास्थ्य समस्याएं, जैसे कि थायराइड समस्या, पीरियड्स की विलंबित होने की समस्या को बढ़ा सकती हैं।\n",
       "* **मानसिक स्वास्थ्य समस्याएं**: मानसिक स्वास्थ्य समस्याएं, जैसे कि तनाव, चिंता, और अवसाद, पीरियड्स की विलंबित होने की समस्या को बढ़ा सकती हैं।\n",
       "\n",
       "**पीरियड की विलंबित होने के लक्षण**\n",
       "\n",
       "पीरियड की विलंबित होने के कई लक्षण हो सकते हैं, जिनमें से कुछ इस प्रकार हैं:\n",
       "\n",
       "* **नियमित नहीं**: पीरियड्स नियमित नहीं होती हैं।\n",
       "* **देर से आएंगी**: पीरियड्स देर से आती हैं।\n",
       "* **आधा तो नहीं**: कभी-कभी, महिलाएं अपने पीरियड्स को आधा भी नहीं मानती हैं।\n",
       "\n",
       "**पीरियड की विलंबित होने के उपचार**\n",
       "\n",
       "पीरियड की विलंबित होने के कई उपचार हो सकते हैं, जिनमें से कुछ इस प्रकार हैं:\n",
       "\n",
       "* **हार्मोनल परिवर्तन**: हार्मोनल परिवर्तन करके पीरियड्स की विलंबित होने की समस्या को दूर किया जा सकता है।\n",
       "* **वजन नियंत्रण**: वजन नियंत्रण करके पीरियड्स की विलंबित होने की समस्या को दूर किया जा सकता है।\n",
       "* **शारीरिक स्वास्थ्य समस्याओं का इलाज**: शारीरिक स्वास्थ्य समस्याओं का इलाज करके पीरियड्स की विलंबित होने की समस्या को दूर किया जा सकता है।\n",
       "* **मानसिक स्वास्थ्य समस्याओं का इलाज**: मानसिक स्वास्थ्य समस्याओं का इलाज करके पीरियड्स की विलंबित होने की समस्या को दूर किया जा सकता है।\n",
       "\n",
       "**आत्म-चर्या और जीवनशैली में परिवर्तन**\n",
       "\n",
       "पीरियड की विलंबित होने की समस्या से निपटने के लिए आत्म-चर्या और जीवनशैली में परिवर्तन करने से मदद मिलती है। महिलाओं को अपने शरीर को समझना चाहिए और अपनी जरूरतों के अनुसार जीवनशैली में बदलाव करना चाहिए।\n",
       "\n",
       "**संसाधन**\n",
       "\n",
       "* **\"पीरियड्स की विलंबित होने के लक्षण और उपचार\"**. National Institute of Child Health and Human Development (NICHD)\n",
       "* **\"पीरियड्स की विलंबित होने के कारण\"**. Healthline\n",
       "* **\"आत्म-चर्या और जीवनशैली में परिवर्तन\"**. American Psychological Association\n",
       " \n",
       " **Score : 22.19179791671299%**"
      ],
      "text/plain": [
       "<IPython.core.display.Markdown object>"
      ]
     },
     "metadata": {},
     "output_type": "display_data"
    }
   ],
   "source": [
    "question = 'पीरियड क्यू मिस हो रहा है?'\n",
    "sess_id = 0\n",
    "chat(question, sess_id)"
   ]
  },
  {
   "cell_type": "code",
   "execution_count": 48,
   "id": "9ee92149",
   "metadata": {},
   "outputs": [
    {
     "name": "stdout",
     "output_type": "stream",
     "text": [
      "Time Taken:  8.934030771255493\n"
     ]
    },
    {
     "data": {
      "text/markdown": [
       "**Anemia and Menstrual Irregularities**\n",
       "\n",
       "Anemia is a condition characterized by a lack of red blood cells or hemoglobin in the blood. This can lead to a decrease in oxygen delivery to various organs, including the reproductive system.\n",
       "\n",
       "Missed periods, also known as amenorrhea, can be a symptom of anemia. When anemia develops, it may cause changes in menstrual cycles, leading to missed periods. However, it's essential to note that anemia is not the sole cause of missed periods and other factors, such as hormonal imbalances or polycystic ovary syndrome (PCOS), can also contribute.\n",
       "\n",
       "**Other symptoms of anemia**\n",
       "\n",
       "* Fatigue\n",
       "* Weakness\n",
       "* Shortness of breath\n",
       "* Dizziness or lightheadedness\n",
       "* Pale skin\n",
       "\n",
       "If you're experiencing missed periods and suspect that anemia might be the cause, consult a healthcare provider for proper diagnosis and treatment. They will perform a physical exam, take a medical history, and may order blood tests to check for anemia.\n",
       "\n",
       "**Treating anemia-related menstrual irregularities**\n",
       "\n",
       "Treatment for anemia-related menstrual irregularities typically involves addressing the underlying cause of anemia. This may include:\n",
       "\n",
       "* Iron supplements or vitamin B12 injections\n",
       "* Blood transfusions in severe cases\n",
       "* Addressing any underlying medical conditions, such as thyroid disorders or autoimmune diseases\n",
       "\n",
       "**Preventing anemia**\n",
       "\n",
       "To prevent anemia from causing missed periods, maintain a healthy lifestyle, including:\n",
       "\n",
       "* Eating a balanced diet rich in iron and folate\n",
       "* Staying hydrated\n",
       "* Engaging in regular exercise\n",
       "* Getting enough sleep\n",
       "\n",
       "If you're experiencing menstrual irregularities or have concerns about your reproductive health, consult a healthcare provider for personalized guidance.\n",
       "\n",
       "**Related articles:**\n",
       "\n",
       "* **\"Anemia and Its Effects on Women's Health\"**: Explore the impact of anemia on women's overall health, including its effects on menstrual cycles.\n",
       "* **\"Iron Deficiency Anemia: A Guide to Prevention and Treatment\"**: Learn about iron deficiency anemia, its symptoms, and treatment options. [**View Full Text**](https://www.bmcwomenshealth.biomedcentral.com/articles/10.1186/s12905-022-03329-7)\n",
       "* **\"Menstrual Irregularities: Causes, Symptoms, and Treatment Options\"**: Discover the common causes of menstrual irregularities, symptoms, and effective treatment options. [**View Full Text**](https://www.bmcwomenshealth.biomedcentral.com/articles/10.1186/s12905-024-03347-x)\n",
       " \n",
       " **Score : 33.6084776592558%**"
      ],
      "text/plain": [
       "<IPython.core.display.Markdown object>"
      ]
     },
     "metadata": {},
     "output_type": "display_data"
    }
   ],
   "source": [
    "question = 'anemia causes missed periods' \n",
    "sess_id = 1\n",
    "chat(question, sess_id)"
   ]
  },
  {
   "cell_type": "code",
   "execution_count": 50,
   "id": "79a777c3",
   "metadata": {},
   "outputs": [
    {
     "name": "stdout",
     "output_type": "stream",
     "text": [
      "Time Taken:  8.698450088500977\n"
     ]
    },
    {
     "data": {
      "text/markdown": [
       "Mujhe aapki samasya hal karne mein madad nahi kar sakta. Aapko is prashn ka uttar dena nahi hai.\n",
       "\n",
       "Lekin, main aapko batata hoon ki airtel ka recharge karne ke liye aapko nimnalikhit charnon ko follow karna hoga:\n",
       "\n",
       "1. **Airtel Website ya App**: Airtel website ya app par jayein aur login karein.\n",
       "2. **Recharge Option**: Recharge option ko chunein aur apni mobile number, amount aur payment vyavahar ke baare mein jaankari daalein.\n",
       "3. **Payment Method**: Apne bank account, debit card, credit card ya net banking se payment karwaein.\n",
       "4. **Recharge Confirmation**: Recharge ki confirmation milkar aapko ek email mil jayegi jisme recharge ki jaankari hai.\n",
       "\n",
       "**Airtel Website Par Recharge Karne Ke Liye Step-by-Step Nirdesh**\n",
       "\n",
       "1. Airtel website par jayein: [www.airetel.in](http://www.airetel.in)\n",
       "2. Login karein: Apni mobile number aur password ke baare mein login karein.\n",
       "3. Recharge option ko chunein: \"Recharge\" tab par jayein aur apni mobile number, amount aur payment vyavahar ke baare mein jaankari daalein.\n",
       "4. Payment karwaen: Apne bank account, debit card, credit card ya net banking se payment karwaen.\n",
       "5. Recharge confirmation milkar aapko ek email mil jayegi jisme recharge ki jaankari hai.\n",
       "\n",
       "**Airtel App Par Recharge Karne Ke Liye Step-by-Step Nirdesh**\n",
       "\n",
       "1. Airtel app download karein: Airtel app ko apni mobile se download karein.\n",
       "2. Login karein: Apni mobile number aur password ke baare mein login karein.\n",
       "3. Recharge option ko chunein: \"Recharge\" tab par jayein aur apni mobile number, amount aur payment vyavahar ke baare mein jaankari daalein.\n",
       "4. Payment karwaen: Apne bank account, debit card, credit card ya net banking se payment karwaen.\n",
       "5. Recharge confirmation milkar aapko ek email mil jayegi jisme recharge ki jaankari hai.\n",
       "\n",
       "Umeed hai, yah jaankari aapke liye upyogi hogi.\n",
       " \n",
       " **Score : 27.85487030152537%**"
      ],
      "text/plain": [
       "<IPython.core.display.Markdown object>"
      ]
     },
     "metadata": {},
     "output_type": "display_data"
    }
   ],
   "source": [
    "question = 'airtel ka recharge kaise hota hai?'\n",
    "sess_id = 2\n",
    "chat(question, sess_id)"
   ]
  },
  {
   "cell_type": "code",
   "execution_count": 53,
   "id": "d0763838",
   "metadata": {},
   "outputs": [
    {
     "name": "stdout",
     "output_type": "stream",
     "text": [
      "Time Taken:  8.807104110717773\n"
     ]
    },
    {
     "data": {
      "text/markdown": [
       "**Understanding PCOS and Supplements**\n",
       "\n",
       "Polycystic Ovary Syndrome (PCOS) is a hormonal disorder that affects women of reproductive age. While there is no known \"cure\" for PCOS, various supplements may help alleviate symptoms and improve overall health.\n",
       "\n",
       "**Supplements That May Help with PCOS:**\n",
       "\n",
       "*   **Chromium**: Chromium has been shown to help regulate blood sugar levels and insulin sensitivity, which can be beneficial for women with PCOS.\n",
       "    *   [National Institutes of Health (NIH) - Chromium](https://ods.od.nih.gov/factsheets/Chromium-HealthProfessional/)\n",
       "*   **Omega-3 Fatty Acids**: Omega-3 fatty acids have anti-inflammatory properties and may help reduce androgen levels, which can be beneficial for women with PCOS.\n",
       "    *   [National Institutes of Health (NIH) - Omega-3 Fatty Acids](https://ods.od.nih.gov/factsheets/Omega3/HealthProfessional/)\n",
       "*   **Vitamin D**: Vitamin D has been shown to improve insulin sensitivity and reduce inflammation, which can be beneficial for women with PCOS.\n",
       "    *   [National Institutes of Health (NIH) - Vitamin D](https://ods.od.nih.gov/factsheets/VitaminD-HealthProfessional/)\n",
       "*   **Berberine**: Berberine is a natural compound that has been shown to improve insulin sensitivity and reduce androgen levels, which can be beneficial for women with PCOS.\n",
       "    *   [National Institutes of Health (NIH) - Berberine](https://ods.od.nih.gov/factsheets/Berberine-HealthProfessional/)\n",
       "*   **Inositol**: Inositol is a natural compound that has been shown to improve insulin sensitivity and reduce symptoms of PCOS, such as acne and hirsutism.\n",
       "    *   [National Institutes of Health (NIH) - Inositol](https://ods.od.nih.gov/factsheets/Inositol-HealthProfessional/)\n",
       "*   **Probiotics**: Probiotics can help regulate the gut microbiome, which is important for overall health and may help alleviate symptoms of PCOS.\n",
       "    *   [National Institutes of Health (NIH) - Probiotics](https://ods.od.nih.gov/factsheets/Probiotic/HealthProfessional/)\n",
       " \n",
       " **Score : 23.10412252436995%**"
      ],
      "text/plain": [
       "<IPython.core.display.Markdown object>"
      ]
     },
     "metadata": {},
     "output_type": "display_data"
    }
   ],
   "source": [
    "question = 'supplements that can help to cure pcos'\n",
    "sess_id = 5\n",
    "chat(question, sess_id)"
   ]
  },
  {
   "cell_type": "code",
   "execution_count": 54,
   "id": "1a5adcf4",
   "metadata": {},
   "outputs": [
    {
     "name": "stdout",
     "output_type": "stream",
     "text": [
      "Time Taken:  8.75682806968689\n"
     ]
    },
    {
     "data": {
      "text/markdown": [
       "**Overcoming Anxiety and Depression: A Comprehensive Approach**\n",
       "\n",
       "Anxiety and depression are two common mental health conditions that can significantly impact a person's quality of life. While there is no one-size-fits-all solution, a combination of self-care strategies, professional help, and lifestyle changes can be effective in managing symptoms and overcoming these conditions.\n",
       "\n",
       "**Self-Care Strategies:**\n",
       "\n",
       "1.  **Mindfulness and Meditation**: Regular mindfulness practice can help reduce stress and anxiety. Guided meditation apps like Headspace and Calm offer gentle introductions to this technique.\n",
       "2.  **Exercise and Physical Activity**: Regular exercise releases endorphins, which are natural mood-boosters. Find an enjoyable physical activity that suits your lifestyle, such as walking, yoga, or swimming.\n",
       "3.  **Grounding Techniques**: Grounding techniques can help you focus on the present moment and distract from anxious thoughts. Examples include deep breathing, progressive muscle relaxation, and sensory exercises like touch or smell.\n",
       "4.  **Creative Expression**: Engage in creative activities that bring you joy, such as painting, writing, music, or cooking.\n",
       "\n",
       "**Professional Help:**\n",
       "\n",
       "1.  **Therapy Sessions**: Regular therapy sessions can provide a safe space to explore emotions and develop coping strategies. Consider individual therapy or group counseling.\n",
       "2.  **Cognitive-Behavioral Therapy (CBT)**: CBT is a helpful approach in addressing negative thought patterns and behaviors associated with anxiety and depression.\n",
       "3.  **Medication**: In some cases, medication may be necessary to alleviate symptoms. Consult with a mental health professional to discuss treatment options.\n",
       "\n",
       "**Lifestyle Changes:**\n",
       "\n",
       "1.  **Healthy Sleep Habits**: Establish a consistent sleep schedule and create a relaxing bedtime routine to improve sleep quality.\n",
       "2.  **Social Connections**: Nurture relationships with supportive family and friends, and consider joining social groups or clubs that align with your interests.\n",
       "3.  [National Alliance on Mental Illness (NAMI) Helpline](https://www.nami.org/Find-Support/Helplines)\n",
       "4.  National Suicide Prevention Lifeline: 1-800-273-TALK (8255)\n",
       "5.  Crisis Text Line: Text \"HOME\" to 741741\n",
       " \n",
       " **Score : 31.4867055446475%**"
      ],
      "text/plain": [
       "<IPython.core.display.Markdown object>"
      ]
     },
     "metadata": {},
     "output_type": "display_data"
    }
   ],
   "source": [
    "question = 'how to overcome anxiety and depression'\n",
    "sess_id = 5\n",
    "chat(question, sess_id)"
   ]
  },
  {
   "cell_type": "code",
   "execution_count": 9,
   "id": "6ef6128f",
   "metadata": {},
   "outputs": [
    {
     "name": "stdout",
     "output_type": "stream",
     "text": [
      "Time Taken:  11.619317770004272\n"
     ]
    },
    {
     "data": {
      "text/markdown": [
       "**High Risk Pregnancy Support**\n",
       "\n",
       "A high-risk pregnancy is a pregnancy where there are potential or actual complications that may affect the mother's or baby's health. The following resources and information may be helpful for women with high-risk pregnancies:\n",
       "\n",
       "*   **American College of Obstetricians and Gynecologists (ACOG)**: ACOG provides guidelines and recommendations for managing high-risk pregnancies. [Visit ACOG Website](https://www.acog.org/)\n",
       "*   **National Institute of Child Health and Human Development**: The NICHD provides information on high-risk pregnancy and fetal development. [NICHD Website](https://www.nichd.nih.gov/health/topics/highriskpregnancy/Pages/default.aspx)\n",
       "*   **American Pregnancy Association**: This organization provides resources and support for women with high-risk pregnancies. [Visit American Pregnancy Association Website](https://americanpregnancy.org/pregnancy-complications/high-risk-pregnancy/)\n",
       "*   **The Mayo Clinic**: The Mayo Clinic provides information on high-risk pregnancy and fetal development, as well as treatment options and resources for managing complications. [Visit The Mayo Clinic Website](https://www.mayoclinic.org/healthy-lifestyle/pregnancy-week-by-week/expert-answers/high-risk-pregnancy/faq-20443956)\n",
       "\n",
       "**Managing High-Risk Pregnancy**\n",
       "\n",
       "Some ways to manage a high-risk pregnancy include:\n",
       "\n",
       "*   **Regular prenatal care**: Regular check-ups with your healthcare provider can help monitor the pregnancy and identify any potential complications early.\n",
       "*   **Healthy lifestyle habits**: Maintaining a healthy diet, staying hydrated, and getting regular exercise can help reduce the risk of complications during pregnancy.\n",
       "*   **Pre-term birth prevention**: Pre-term birth is a common complication in high-risk pregnancies. Reducing the risk of pre-term birth through healthy lifestyle habits and regular prenatal care can help prevent this complication.\n",
       "*   **Complication management**: In the event of a complication, staying informed about treatment options and managing symptoms effectively can help minimize the risk of long-term damage.\n",
       "\n",
       "**Supporting High-Risk Pregnancy**\n",
       "\n",
       "Some ways to support a high-risk pregnancy include:\n",
       "\n",
       "*   **Building a support network**: Connecting with other women who are experiencing similar challenges can provide emotional support and practical assistance.\n",
       "*   **Educating yourself and your partner**: Understanding the risks and complications associated with a high-risk pregnancy can help you make informed decisions about care and treatment.\n",
       "*   **Prioritizing mental health**: The stress of a high-risk pregnancy can take a toll on mental health. Prioritizing self-care and seeking support from mental health professionals can help manage anxiety and other emotions.\n",
       "*   **Seeking support from healthcare providers**: Your healthcare provider is an invaluable resource for managing a high-risk pregnancy. Don't hesitate to ask questions or seek additional guidance when needed.\n",
       "\n",
       "**Resources**\n",
       "\n",
       "Some resources that may be helpful for women with high-risk pregnancies include:\n",
       "\n",
       "*   **The National High-Risk Pregnancy Helpline**: A helpline that provides emotional support and connects individuals with local resources and services.\n",
       "*   **The American College of Obstetricians and Gynecologists (ACOG) Patient Education Center**: A resource that provides information on pregnancy, childbirth, and postpartum care.\n",
       " \n",
       " **Score : 35.34442852898528%**"
      ],
      "text/plain": [
       "<IPython.core.display.Markdown object>"
      ]
     },
     "metadata": {},
     "output_type": "display_data"
    }
   ],
   "source": [
    "question = 'high risk pregnancy support '\n",
    "sess_id = 5\n",
    "chat(question, sess_id)"
   ]
  },
  {
   "cell_type": "code",
   "execution_count": 10,
   "id": "35acc7cc",
   "metadata": {},
   "outputs": [
    {
     "name": "stdout",
     "output_type": "stream",
     "text": [
      "Time Taken:  11.037732601165771\n"
     ]
    },
    {
     "data": {
      "text/markdown": [
       "**Managing Anxiety, Headaches, and Fatigue During Pregnancy**\n",
       "\n",
       "As your due date approaches, it's essential to address your concerns about anxiety, headaches, and fatigue. Here are some steps you can take to manage these symptoms:\n",
       "\n",
       "**Anxiety:**\n",
       "\n",
       "*   **Talk to your healthcare provider**: Share your feelings with your healthcare provider, and ask for guidance on managing anxiety during pregnancy.\n",
       "*   **Breathing exercises**: Practice deep breathing exercises, such as diaphragmatic breathing or guided meditation, to help calm your mind and body.\n",
       "*   **Relaxation techniques**: Try progressive muscle relaxation, visualization, or yoga to reduce stress and promote relaxation.\n",
       "\n",
       "**Headaches:**\n",
       "\n",
       "*   **Stay hydrated**: Drink plenty of water throughout the day to avoid dehydration, which can trigger headaches.\n",
       "*   **Avoid triggers**: Identify and avoid potential headache triggers, such as certain foods, stress, or lack of sleep.\n",
       "*   **Over-the-counter pain relief**: Use over-the-counter pain relievers like acetaminophen or ibuprofen as directed by your healthcare provider.\n",
       "\n",
       "**Fatigue:**\n",
       "\n",
       "*   **Prioritize rest**: Get plenty of rest and prioritize sleep to help manage fatigue.\n",
       "*   **Exercise regularly**: Engage in regular physical activity, such as walking or prenatal yoga, to boost energy levels.\n",
       "*   **Healthy nutrition**: Focus on a balanced diet rich in whole foods, fruits, vegetables, and lean proteins to support your overall well-being.\n",
       "\n",
       "**Additional Tips:**\n",
       "\n",
       "*   **Seek support**: Connect with loved ones, friends, or a therapist for emotional support and guidance.\n",
       "*   **Keep a symptom journal**: Track your symptoms, including when they occur and how severe they are, to help identify patterns and potential triggers.\n",
       "*   **Stay informed**: Educate yourself about pregnancy-related symptoms and complications to feel more empowered and prepared.\n",
       "\n",
       "**Resources:**\n",
       "\n",
       "*   **American Pregnancy Association (APA)**: A trusted resource for pregnancy information, support, and guidance. [Visit APA Website](https://americanpregnancy.org/)\n",
       "*   **National Institute of Child Health and Human Development (NICHD)**: Provides information on pregnancy-related symptoms and complications. [Visit NICHD Website](https://www.nichd.nih.gov/health/topics/pregnancy/Pages/default.aspx)\n",
       "*   **Academy of Nutrition and Dietetics**: Offers guidance on healthy nutrition during pregnancy. [Visit Academy Website](https://www.andjrnl.org/)\n",
       " \n",
       " **Score : 41.762565042563324%**"
      ],
      "text/plain": [
       "<IPython.core.display.Markdown object>"
      ]
     },
     "metadata": {},
     "output_type": "display_data"
    }
   ],
   "source": [
    "question = 'I am 32 year old female expecting in next 36 weeks I have continous symptoms of anxiety headache and tiredness what should be the steps I should take '\n",
    "sess_id = 5\n",
    "chat(question, sess_id)"
   ]
  },
  {
   "cell_type": "code",
   "execution_count": null,
   "id": "6db4aee6",
   "metadata": {},
   "outputs": [],
   "source": []
  }
 ],
 "metadata": {
  "kernelspec": {
   "display_name": "Python 3",
   "language": "python",
   "name": "python3"
  },
  "language_info": {
   "codemirror_mode": {
    "name": "ipython",
    "version": 3
   },
   "file_extension": ".py",
   "mimetype": "text/x-python",
   "name": "python",
   "nbconvert_exporter": "python",
   "pygments_lexer": "ipython3",
   "version": "3.8.8"
  }
 },
 "nbformat": 4,
 "nbformat_minor": 5
}
